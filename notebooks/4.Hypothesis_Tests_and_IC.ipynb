{
 "cells": [
  {
   "cell_type": "markdown",
   "id": "8bfb0de6",
   "metadata": {},
   "source": [
    "# Hypothesis_Tests_and_IC using Bootstrapping"
   ]
  },
  {
   "cell_type": "code",
   "execution_count": 3,
   "id": "bd026ac6",
   "metadata": {},
   "outputs": [],
   "source": [
    "import pandas as pd\n",
    "import numpy as np\n",
    "from sklearn.compose import ColumnTransformer\n",
    "from sklearn.pipeline import Pipeline\n",
    "from sklearn.preprocessing import StandardScaler, OneHotEncoder\n",
    "from sklearn.linear_model import LinearRegression\n",
    "from sklearn.model_selection import train_test_split\n",
    "# Specify relative path to the file\n",
    "file_path = \"../database/CreditCard_CLEANED.csv\"\n",
    "\n",
    "# Load data into a pandas DataFrame\n",
    "df = pd.read_csv(file_path)\n"
   ]
  },
  {
   "cell_type": "code",
   "execution_count": null,
   "id": "22b7bc8c",
   "metadata": {},
   "outputs": [],
   "source": []
  },
  {
   "cell_type": "code",
   "execution_count": 4,
   "id": "501ed684",
   "metadata": {},
   "outputs": [],
   "source": [
    "data=df"
   ]
  },
  {
   "cell_type": "code",
   "execution_count": 5,
   "id": "31c9faec",
   "metadata": {},
   "outputs": [],
   "source": [
    "data[\"Total Charges\"] = pd.to_numeric(data[\"Total Charges\"], errors='coerce')"
   ]
  },
  {
   "cell_type": "markdown",
   "id": "b848a72e",
   "metadata": {},
   "source": [
    "# H0: não existe diferença estística entre os valores dos clientes ativos e inativos quanto ao valor de cobrança mensal\n",
    "# H1: existe diferença estatisticamente relevante"
   ]
  },
  {
   "cell_type": "code",
   "execution_count": null,
   "id": "19762804",
   "metadata": {},
   "outputs": [],
   "source": [
    "import pandas as pd\n",
    "import numpy as np\n",
    "import seaborn as sns\n",
    "import matplotlib.pyplot as plt\n",
    "\n",
    "# Set the style for the plot\n",
    "sns.set(style='whitegrid')\n",
    "\n",
    "# Define the number of bootstrap iterations\n",
    "n_boot = 1000\n",
    "\n",
    "# Define the confidence interval\n",
    "ci = 95\n",
    "\n",
    "# Separate the data into Churn Label \"Yes\" and \"No\" groups\n",
    "yes_data = data[data[\"Churn Label\"] == \"Yes\"][\"Monthly Charges\"]\n",
    "no_data = data[data[\"Churn Label\"] == \"No\"][\"Monthly Charges\"]\n",
    "\n",
    "# Bootstrap the means of each group\n",
    "yes_means = [np.mean(np.random.choice(yes_data, len(yes_data), replace=True)) for _ in range(n_boot)]\n",
    "no_means = [np.mean(np.random.choice(no_data, len(no_data), replace=True)) for _ in range(n_boot)]\n",
    "\n",
    "# Calculate the confidence intervals for each group\n",
    "yes_ci_low, yes_ci_high = np.percentile(yes_means, [(100-ci)/2, 100-(100-ci)/2])\n",
    "no_ci_low, no_ci_high = np.percentile(no_means, [(100-ci)/2, 100-(100-ci)/2])\n",
    "\n",
    "# Combine the bootstrapped means into a DataFrame\n",
    "bootstrapped_means = pd.DataFrame({\"Churn Label\": [\"Yes\"] * n_boot + [\"No\"] * n_boot, \"Monthly Charges\": yes_means + no_means})\n",
    "\n",
    "# Create a displot with the bootstrapped means and fill the area within the confidence interval\n",
    "g = sns.displot(\n",
    "    data=bootstrapped_means,\n",
    "    x=\"Monthly Charges\",\n",
    "    hue=\"Churn Label\",\n",
    "    kind=\"kde\",\n",
    "    common_norm=False,\n",
    "    fill=True,\n",
    ")\n",
    "\n",
    "# Add vertical lines for the confidence intervals\n",
    "plt.axvline(yes_ci_low, color='blue', linestyle='--', alpha=0.7)\n",
    "plt.axvline(yes_ci_high, color='blue', linestyle='--', alpha=0.7)\n",
    "plt.axvline(no_ci_low, color='orange', linestyle='--', alpha=0.7)\n",
    "plt.axvline(no_ci_high, color='orange', linestyle='--', alpha=0.7)\n",
    "\n",
    "# Set the labels for the X and Y axes\n",
    "g.set_axis_labels(\"Mean Monthly Charges\", \"Density\")\n",
    "\n",
    "# Set the title for the plot\n",
    "plt.title(\"Bootstrap Distribution of Mean Monthly Charges by Churn Label\")\n",
    "# Create a DataFrame for the confidence intervals\n",
    "print(f\"Clientes Ativos: IC -> ({no_ci_low:.2f}, {no_ci_high:.2f})\")\n",
    "print(f\"Clientes Cancelados: IC -> ({yes_ci_low:.2f}, {yes_ci_high:.2f})\")\n"
   ]
  },
  {
   "cell_type": "code",
   "execution_count": null,
   "id": "493ca29d",
   "metadata": {},
   "outputs": [],
   "source": [
    "from scipy import stats\n",
    "\n",
    "# Conduct the t-test\n",
    "t_stat, p_value = stats.ttest_ind(yes_data, no_data)\n",
    "\n",
    "# Print the results\n",
    "print(f\"T-statistic: {t_stat}\")\n",
    "print(f\"P-value: {format(p_value, '.50f')}\")"
   ]
  },
  {
   "cell_type": "markdown",
   "id": "71f01d83",
   "metadata": {},
   "source": [
    "# H0 rejeitada! (implicações discutidas no relatório)"
   ]
  },
  {
   "cell_type": "markdown",
   "id": "a4a82399",
   "metadata": {},
   "source": [
    "\n",
    "QUANTO AO CLTV (Score interno da empresa que mede importancia de cada cliente):\n",
    "\n",
    "# H0: não existe diferença estística entre os valores dos clientes ativos e inativos\n",
    "# H1: existe diferença estatisticamente relevante"
   ]
  },
  {
   "cell_type": "code",
   "execution_count": null,
   "id": "85c0ae5b",
   "metadata": {},
   "outputs": [],
   "source": [
    "import pandas as pd\n",
    "import numpy as np\n",
    "import seaborn as sns\n",
    "import matplotlib.pyplot as plt\n",
    "\n",
    "# Set the style for the plot\n",
    "sns.set(style='whitegrid')\n",
    "\n",
    "# Define the number of bootstrap iterations\n",
    "n_boot = 1000\n",
    "\n",
    "# Define the confidence interval\n",
    "ci = 95\n",
    "\n",
    "# Separate the data into Churn Label \"Yes\" and \"No\" groups\n",
    "yes_data = data[data[\"Churn Label\"] == \"Yes\"][\"CLTV\"]\n",
    "no_data = data[data[\"Churn Label\"] == \"No\"][\"CLTV\"]\n",
    "\n",
    "# Bootstrap the means of each group\n",
    "yes_means = [np.mean(np.random.choice(yes_data, len(yes_data), replace=True)) for _ in range(n_boot)]\n",
    "no_means = [np.mean(np.random.choice(no_data, len(no_data), replace=True)) for _ in range(n_boot)]\n",
    "\n",
    "# Calculate the confidence intervals for each group\n",
    "yes_ci_low, yes_ci_high = np.percentile(yes_means, [(100-ci)/2, 100-(100-ci)/2])\n",
    "no_ci_low, no_ci_high = np.percentile(no_means, [(100-ci)/2, 100-(100-ci)/2])\n",
    "\n",
    "# Combine the bootstrapped means into a DataFrame\n",
    "bootstrapped_means = pd.DataFrame({\"Churn Label\": [\"Yes\"] * n_boot + [\"No\"] * n_boot, \"CLTV\": yes_means + no_means})\n",
    "\n",
    "# Create a displot with the bootstrapped means and fill the area within the confidence interval\n",
    "g = sns.displot(\n",
    "    data=bootstrapped_means,\n",
    "    x=\"CLTV\",\n",
    "    hue=\"Churn Label\",\n",
    "    kind=\"kde\",\n",
    "    common_norm=False,\n",
    "    fill=True,\n",
    ")\n",
    "\n",
    "# Add vertical lines for the confidence intervals\n",
    "plt.axvline(yes_ci_low, color='blue', linestyle='--', alpha=0.7)\n",
    "plt.axvline(yes_ci_high, color='blue', linestyle='--', alpha=0.7)\n",
    "plt.axvline(no_ci_low, color='orange', linestyle='--', alpha=0.7)\n",
    "plt.axvline(no_ci_high, color='orange', linestyle='--', alpha=0.7)\n",
    "\n",
    "# Set the labels for the X and Y axes\n",
    "g.set_axis_labels(\"Mean CLTV\", \"Density\")\n",
    "\n",
    "# Set the title for the plot\n",
    "plt.title(\"Bootstrap Distribution of Mean CLTV by Churn Label\")\n",
    "\n",
    "# Show the plot\n",
    "plt.show()\n",
    "\n"
   ]
  },
  {
   "cell_type": "code",
   "execution_count": null,
   "id": "ca7ce813",
   "metadata": {},
   "outputs": [],
   "source": [
    "from scipy import stats\n",
    "\n",
    "# Conduct the t-test\n",
    "t_stat, p_value = stats.ttest_ind(yes_data, no_data)\n",
    "\n",
    "# Print the results\n",
    "print(f\"T-statistic: {t_stat}\")\n",
    "print(f\"P-value: {format(p_value, '.50f')}\")"
   ]
  },
  {
   "cell_type": "markdown",
   "id": "5099910d",
   "metadata": {},
   "source": [
    "# H0: não existe diferença estística entre os valores dos clientes ativos e inativos\n",
    "# H1: existe diferença estatisticamente relevante"
   ]
  },
  {
   "cell_type": "code",
   "execution_count": null,
   "id": "1399662d",
   "metadata": {},
   "outputs": [],
   "source": [
    "import pandas as pd\n",
    "import numpy as np\n",
    "import seaborn as sns\n",
    "import matplotlib.pyplot as plt\n",
    "\n",
    "# Set the style for the plot\n",
    "sns.set(style='whitegrid')\n",
    "\n",
    "# Define the number of bootstrap iterations\n",
    "n_boot = 1000\n",
    "\n",
    "# Define the confidence interval\n",
    "ci = 95\n",
    "\n",
    "# Separate the data into Churn Label \"Yes\" and \"No\" groups\n",
    "yes_data = data[data[\"Churn Label\"] == \"Yes\"][\"Churn Score\"]\n",
    "no_data = data[data[\"Churn Label\"] == \"No\"][\"Churn Score\"]\n",
    "\n",
    "# Bootstrap the means of each group\n",
    "yes_means = [np.mean(np.random.choice(yes_data, len(yes_data), replace=True)) for _ in range(n_boot)]\n",
    "no_means = [np.mean(np.random.choice(no_data, len(no_data), replace=True)) for _ in range(n_boot)]\n",
    "\n",
    "# Calculate the confidence intervals for each group\n",
    "yes_ci_low, yes_ci_high = np.percentile(yes_means, [(100-ci)/2, 100-(100-ci)/2])\n",
    "no_ci_low, no_ci_high = np.percentile(no_means, [(100-ci)/2, 100-(100-ci)/2])\n",
    "\n",
    "# Combine the bootstrapped means into a DataFrame\n",
    "bootstrapped_means = pd.DataFrame({\"Churn Label\": [\"Yes\"] * n_boot + [\"No\"] * n_boot, \"Churn Score\": yes_means + no_means})\n",
    "\n",
    "# Create a displot with the bootstrapped means and fill the area within the confidence interval\n",
    "g = sns.displot(\n",
    "    data=bootstrapped_means,\n",
    "    x=\"Churn Score\",\n",
    "    hue=\"Churn Label\",\n",
    "    kind=\"kde\",\n",
    "    common_norm=False,\n",
    "    fill=True,\n",
    ")\n",
    "\n",
    "# Add vertical lines for the confidence intervals\n",
    "plt.axvline(yes_ci_low, color='blue', linestyle='--', alpha=0.7)\n",
    "plt.axvline(yes_ci_high, color='blue', linestyle='--', alpha=0.7)\n",
    "plt.axvline(no_ci_low, color='orange', linestyle='--', alpha=0.7)\n",
    "plt.axvline(no_ci_high, color='orange', linestyle='--', alpha=0.7)\n",
    "\n",
    "# Set the labels for the X and Y axes\n",
    "g.set_axis_labels(\"Mean Churn Score\", \"Density\")\n",
    "\n",
    "# Set the title for the plot\n",
    "plt.title(\"Bootstrap Distribution of Mean Churn Score by Churn Label\")\n",
    "\n",
    "# Show the plot\n",
    "plt.show()\n",
    "# Create a DataFrame for the confidence intervals\n",
    "print(f\"Clientes Ativos: IC -> ({no_ci_low:.2f}, {no_ci_high:.2f})\")\n",
    "print(f\"Clientes Cancelados: IC -> ({yes_ci_low:.2f}, {yes_ci_high:.2f})\")\n"
   ]
  },
  {
   "cell_type": "markdown",
   "id": "1eaeeb43",
   "metadata": {},
   "source": [
    "# Test - t para obtermos a T-statistic e p-value:"
   ]
  },
  {
   "cell_type": "code",
   "execution_count": null,
   "id": "6518eee6",
   "metadata": {},
   "outputs": [],
   "source": [
    "from scipy import stats\n",
    "\n",
    "# Conduct the t-test\n",
    "t_stat, p_value = stats.ttest_ind(yes_data, no_data)\n",
    "\n",
    "# Print the results\n",
    "print(f\"T-statistic: {t_stat}\")\n",
    "print(f\"P-value: {format(p_value, '.50f')}\")"
   ]
  },
  {
   "cell_type": "markdown",
   "id": "159c77f4",
   "metadata": {},
   "source": [
    "# H0 rejeitada! (implicações discutidas no relatório)"
   ]
  },
  {
   "cell_type": "markdown",
   "id": "3014c7b9",
   "metadata": {},
   "source": [
    "\n",
    "# Quanto a cobrança total:  \n",
    "\n",
    "# H0: não existe diferença estística entre os valores dos clientes ativos e inativos\n",
    "# H1: existe diferença estatisticamente relevante"
   ]
  },
  {
   "cell_type": "code",
   "execution_count": null,
   "id": "485c5d4c",
   "metadata": {},
   "outputs": [],
   "source": [
    "import pandas as pd\n",
    "import numpy as np\n",
    "import seaborn as sns\n",
    "import matplotlib.pyplot as plt\n",
    "\n",
    "# Set the style for the plot\n",
    "sns.set(style='whitegrid')\n",
    "# Convert \"Total Charges\" to numeric, invalid parsing will be set as NaN\n",
    "data[\"Total Charges\"] = pd.to_numeric(data[\"Total Charges\"], errors='coerce')\n",
    "\n",
    "# Drop rows with NaN values in \"Total Charges\"\n",
    "data = data.dropna(subset=[\"Total Charges\"])\n",
    "\n",
    "# Define the number of bootstrap iterations\n",
    "n_boot = 1000\n",
    "\n",
    "# Define the confidence interval\n",
    "ci = 95\n",
    "\n",
    "# Separate the data into Churn Label \"Yes\" and \"No\" groups\n",
    "yes_data = data[data[\"Churn Label\"] == \"Yes\"][\"Total Charges\"]\n",
    "no_data = data[data[\"Churn Label\"] == \"No\"][\"Total Charges\"]\n",
    "\n",
    "# Bootstrap the means of each group\n",
    "yes_means = [np.mean(np.random.choice(yes_data, len(yes_data), replace=True)) for _ in range(n_boot)]\n",
    "no_means = [np.mean(np.random.choice(no_data, len(no_data), replace=True)) for _ in range(n_boot)]\n",
    "\n",
    "# Calculate the confidence intervals for each group\n",
    "yes_ci_low, yes_ci_high = np.percentile(yes_means, [(100-ci)/2, 100-(100-ci)/2])\n",
    "no_ci_low, no_ci_high = np.percentile(no_means, [(100-ci)/2, 100-(100-ci)/2])\n",
    "\n",
    "# Combine the bootstrapped means into a DataFrame\n",
    "bootstrapped_means = pd.DataFrame({\"Churn Label\": [\"Yes\"] * n_boot + [\"No\"] * n_boot, \"Total Charges\": yes_means + no_means})\n",
    "\n",
    "# Create a displot with the bootstrapped means and fill the area within the confidence interval\n",
    "g = sns.displot(\n",
    "    data=bootstrapped_means,\n",
    "    x=\"Total Charges\",\n",
    "    hue=\"Churn Label\",\n",
    "    kind=\"kde\",\n",
    "    common_norm=False,\n",
    "    fill=True,\n",
    ")\n",
    "\n",
    "# Add vertical lines for the confidence intervals\n",
    "plt.axvline(yes_ci_low, color='blue', linestyle='--', alpha=0.7)\n",
    "plt.axvline(yes_ci_high, color='blue', linestyle='--', alpha=0.7)\n",
    "plt.axvline(no_ci_low, color='orange', linestyle='--', alpha=0.7)\n",
    "plt.axvline(no_ci_high, color='orange', linestyle='--', alpha=0.7)\n",
    "\n",
    "# Set the labels for the X and Y axes\n",
    "g.set_axis_labels(\"Mean Total Charges\", \"Density\")\n",
    "\n",
    "# Set the title for the plot\n",
    "plt.title(\"Bootstrap Distribution of Mean Total Charges by Churn Label\")\n",
    "\n",
    "# Show the plo\n"
   ]
  },
  {
   "cell_type": "markdown",
   "id": "b480e126",
   "metadata": {},
   "source": [
    "# H0 rejeitada! (implicações discutidas no relatório)"
   ]
  },
  {
   "cell_type": "markdown",
   "id": "4c506432",
   "metadata": {},
   "source": [
    "# Test - t para obtermos a T-statistic e p-value:"
   ]
  },
  {
   "cell_type": "code",
   "execution_count": null,
   "id": "a20dbdef",
   "metadata": {},
   "outputs": [],
   "source": [
    "from scipy import stats\n",
    "\n",
    "# Conduct the t-test\n",
    "t_stat, p_value = stats.ttest_ind(yes_data, no_data)\n",
    "\n",
    "# Print the results\n",
    "print(f\"T-statistic: {t_stat}\")\n",
    "print(f\"P-value: {format(p_value, '.50f')}\")\n",
    "\n"
   ]
  },
  {
   "cell_type": "code",
   "execution_count": null,
   "id": "fa8075d3",
   "metadata": {},
   "outputs": [],
   "source": [
    "data=df[['Total Charges', 'Monthly Charges', 'CLTV', 'Churn Score', 'Churn Value']].copy()"
   ]
  },
  {
   "cell_type": "code",
   "execution_count": null,
   "id": "d7a413d1",
   "metadata": {},
   "outputs": [],
   "source": [
    "data['time_estimation'] = data['Total Charges']/data['Monthly Charges']"
   ]
  },
  {
   "cell_type": "code",
   "execution_count": null,
   "id": "45bf63ac",
   "metadata": {},
   "outputs": [],
   "source": [
    "data.corr()"
   ]
  },
  {
   "cell_type": "code",
   "execution_count": null,
   "id": "ec427cfb",
   "metadata": {},
   "outputs": [],
   "source": [
    "oi= df[['Churn Score','Churn Value']].copy()"
   ]
  },
  {
   "cell_type": "code",
   "execution_count": null,
   "id": "5435943d",
   "metadata": {},
   "outputs": [],
   "source": [
    "oi = df[['Churn Score','Churn Value']].copy()\n",
    "ola=np.array(oi[oi['Churn Value'] == 1]['Churn Score'])\n"
   ]
  },
  {
   "cell_type": "code",
   "execution_count": null,
   "id": "5310d97f",
   "metadata": {},
   "outputs": [],
   "source": [
    "(ola.std()/np.sqrt(len(ola)))"
   ]
  },
  {
   "cell_type": "code",
   "execution_count": null,
   "id": "1f571cfc",
   "metadata": {},
   "outputs": [],
   "source": []
  }
 ],
 "metadata": {
  "kernelspec": {
   "display_name": "Python 3 (ipykernel)",
   "language": "python",
   "name": "python3"
  },
  "language_info": {
   "codemirror_mode": {
    "name": "ipython",
    "version": 3
   },
   "file_extension": ".py",
   "mimetype": "text/x-python",
   "name": "python",
   "nbconvert_exporter": "python",
   "pygments_lexer": "ipython3",
   "version": "3.9.12"
  }
 },
 "nbformat": 4,
 "nbformat_minor": 5
}
